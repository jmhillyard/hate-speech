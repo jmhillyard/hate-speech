{
 "cells": [
  {
   "cell_type": "code",
   "execution_count": 1,
   "metadata": {
    "collapsed": true
   },
   "outputs": [],
   "source": [
    "import numpy as np\n",
    "import pandas as pd\n",
    "import csv\n"
   ]
  },
  {
   "cell_type": "markdown",
   "metadata": {},
   "source": [
    "Cleaning the larger of the google files.\n",
    "\n"
   ]
  },
  {
   "cell_type": "code",
   "execution_count": 2,
   "metadata": {
    "collapsed": false
   },
   "outputs": [],
   "source": [
    "columns = ['sentiment','index', 'datetime','where','whom','text']\n",
    "df = pd.read_csv('/Users/janehillyard/Documents/capstone/hate-speech/data/training.1600000.processed.noemoticon.csv',header=None)\n",
    "df.columns = ['sentiment','index', 'datetime','where','whom','text']\n"
   ]
  },
  {
   "cell_type": "code",
   "execution_count": 3,
   "metadata": {
    "collapsed": false
   },
   "outputs": [],
   "source": [
    "df_big = df[['sentiment', 'text']].copy()\n",
    "df_big.loc[df_big['sentiment'] == 4, 'sentiment'] = 1"
   ]
  },
  {
   "cell_type": "code",
   "execution_count": 37,
   "metadata": {
    "collapsed": false
   },
   "outputs": [
    {
     "data": {
      "text/html": [
       "<div>\n",
       "<table border=\"1\" class=\"dataframe\">\n",
       "  <thead>\n",
       "    <tr style=\"text-align: right;\">\n",
       "      <th></th>\n",
       "      <th>sentiment</th>\n",
       "      <th>text</th>\n",
       "    </tr>\n",
       "  </thead>\n",
       "  <tbody>\n",
       "    <tr>\n",
       "      <th>0</th>\n",
       "      <td>0</td>\n",
       "      <td>@switchfoot http://twitpic.com/2y1zl - Awww, t...</td>\n",
       "    </tr>\n",
       "    <tr>\n",
       "      <th>1</th>\n",
       "      <td>0</td>\n",
       "      <td>is upset that he can't update his Facebook by ...</td>\n",
       "    </tr>\n",
       "    <tr>\n",
       "      <th>2</th>\n",
       "      <td>0</td>\n",
       "      <td>@Kenichan I dived many times for the ball. Man...</td>\n",
       "    </tr>\n",
       "    <tr>\n",
       "      <th>3</th>\n",
       "      <td>0</td>\n",
       "      <td>my whole body feels itchy and like its on fire</td>\n",
       "    </tr>\n",
       "    <tr>\n",
       "      <th>4</th>\n",
       "      <td>0</td>\n",
       "      <td>@nationwideclass no, it's not behaving at all....</td>\n",
       "    </tr>\n",
       "  </tbody>\n",
       "</table>\n",
       "</div>"
      ],
      "text/plain": [
       "   sentiment                                               text\n",
       "0          0  @switchfoot http://twitpic.com/2y1zl - Awww, t...\n",
       "1          0  is upset that he can't update his Facebook by ...\n",
       "2          0  @Kenichan I dived many times for the ball. Man...\n",
       "3          0    my whole body feels itchy and like its on fire \n",
       "4          0  @nationwideclass no, it's not behaving at all...."
      ]
     },
     "execution_count": 37,
     "metadata": {},
     "output_type": "execute_result"
    }
   ],
   "source": [
    "df_big.head()\n"
   ]
  },
  {
   "cell_type": "code",
   "execution_count": 41,
   "metadata": {
    "collapsed": false
   },
   "outputs": [],
   "source": [
    "df_big.to_csv('/Users/janehillyard/Documents/capstone/hate-speech/data/big_test_data.txt', sep=' ', index = False, \n",
    "              quoting=csv.QUOTE_NONE,escapechar=' ')"
   ]
  },
  {
   "cell_type": "code",
   "execution_count": null,
   "metadata": {
    "collapsed": true
   },
   "outputs": [],
   "source": [
    "with open('test.csv', 'w') as csvFile:\n",
    "        writer = csv.writer(csvFile, delimiter=',', quoting=csv.QUOTE_MINIMAL)"
   ]
  },
  {
   "cell_type": "code",
   "execution_count": 61,
   "metadata": {
    "collapsed": false
   },
   "outputs": [
    {
     "ename": "IOError",
     "evalue": "[Errno 2] No such file or directory: 'hate-speech/data/fulltest.txt'",
     "output_type": "error",
     "traceback": [
      "\u001b[0;31m---------------------------------------------------------------------------\u001b[0m",
      "\u001b[0;31mIOError\u001b[0m                                   Traceback (most recent call last)",
      "\u001b[0;32m<ipython-input-61-b0632421f782>\u001b[0m in \u001b[0;36m<module>\u001b[0;34m()\u001b[0m\n\u001b[0;32m----> 1\u001b[0;31m \u001b[0;32mwith\u001b[0m \u001b[0mopen\u001b[0m\u001b[0;34m(\u001b[0m\u001b[0;34m'hate-speech/data/fulltest.txt'\u001b[0m\u001b[0;34m)\u001b[0m \u001b[0;32mas\u001b[0m \u001b[0mf\u001b[0m\u001b[0;34m:\u001b[0m\u001b[0;34m\u001b[0m\u001b[0m\n\u001b[0m\u001b[1;32m      2\u001b[0m     \u001b[0mlines\u001b[0m \u001b[0;34m=\u001b[0m \u001b[0mf\u001b[0m\u001b[0;34m.\u001b[0m\u001b[0mreadlines\u001b[0m\u001b[0;34m(\u001b[0m\u001b[0;34m)\u001b[0m\u001b[0;34m\u001b[0m\u001b[0m\n\u001b[1;32m      3\u001b[0m     \u001b[0;32mprint\u001b[0m \u001b[0mlines\u001b[0m\u001b[0;34m[\u001b[0m\u001b[0;36m100000\u001b[0m\u001b[0;34m]\u001b[0m\u001b[0;34m\u001b[0m\u001b[0m\n",
      "\u001b[0;31mIOError\u001b[0m: [Errno 2] No such file or directory: 'hate-speech/data/fulltest.txt'"
     ]
    }
   ],
   "source": [
    "with open('hate-speech/data/fulltest.txt') as f:\n",
    "    lines = f.readlines()\n",
    "    print lines[100000]\n"
   ]
  },
  {
   "cell_type": "code",
   "execution_count": 47,
   "metadata": {
    "collapsed": false
   },
   "outputs": [],
   "source": [
    "df = pd.DataFrame(lines)"
   ]
  },
  {
   "cell_type": "markdown",
   "metadata": {
    "collapsed": false
   },
   "source": [
    "### this is appl files from sanders http://boston.lti.cs.cmu.edu/classes/95-865-K/HW/HW3/"
   ]
  },
  {
   "cell_type": "code",
   "execution_count": 74,
   "metadata": {
    "collapsed": false
   },
   "outputs": [],
   "source": [
    "\n",
    "\n",
    "df = pd.read_csv('/Users/janehillyard/Documents/capstone/hate-speech/data/twitter-sanders-apple2.csv')\n",
    "df.loc[df['class'] == 'Pos', 'class'] = 1\n",
    "df.loc[df['class'] == 'Neg', 'class'] = 0\n",
    "df2 = df[df['class'] != 'Neutral']\n",
    "df.to_csv('/Users/janehillyard/Documents/capstone/hate-speech/data/sancsv2.txt', sep=' ', index = False, \n",
    "              quoting=csv.QUOTE_NONE,escapechar=' ', header=False)"
   ]
  },
  {
   "cell_type": "code",
   "execution_count": 75,
   "metadata": {
    "collapsed": false
   },
   "outputs": [],
   "source": [
    "\n",
    "\n",
    "df = pd.read_csv('/Users/janehillyard/Documents/capstone/hate-speech/data/twitter-sanders-apple3.csv')\n",
    "df.loc[df['class'] == 'Pos', 'class'] = 1\n",
    "df.loc[df['class'] == 'Neg', 'class'] = 0\n",
    "df2 = df[df['class'] != 'Neutral']\n",
    "df2.to_csv('/Users/janehillyard/Documents/capstone/hate-speech/data/sancsv2.txt',mode='a', sep=' ',index = False, \n",
    "              quoting=csv.QUOTE_NONE,escapechar=' ',header=False)"
   ]
  },
  {
   "cell_type": "code",
   "execution_count": 69,
   "metadata": {
    "collapsed": false
   },
   "outputs": [],
   "source": [
    "\n",
    "with open(\"hate-speech/data/sentimenttrain.txt\") as f:\n",
    "    lines = f.readlines()\n",
    "    np.random.shuffle(lines)\n",
    "df = pd.DataFrame(lines)"
   ]
  },
  {
   "cell_type": "code",
   "execution_count": 70,
   "metadata": {
    "collapsed": false
   },
   "outputs": [],
   "source": [
    "df.to_csv('/Users/janehillyard/Documents/capstone/hate-speech/data/sancsv2.txt',mode='a', sep=' ',header=Fales,index = False, \n",
    "              quoting=csv.QUOTE_NONE,escapechar=' ')"
   ]
  },
  {
   "cell_type": "code",
   "execution_count": 73,
   "metadata": {
    "collapsed": false
   },
   "outputs": [
    {
     "data": {
      "text/html": [
       "<div>\n",
       "<table border=\"1\" class=\"dataframe\">\n",
       "  <thead>\n",
       "    <tr style=\"text-align: right;\">\n",
       "      <th></th>\n",
       "      <th>class</th>\n",
       "      <th>text</th>\n",
       "    </tr>\n",
       "  </thead>\n",
       "  <tbody>\n",
       "    <tr>\n",
       "      <th>0</th>\n",
       "      <td>1</td>\n",
       "      <td>Now all @Apple has to do is get swype on the i...</td>\n",
       "    </tr>\n",
       "    <tr>\n",
       "      <th>1</th>\n",
       "      <td>1</td>\n",
       "      <td>@Apple will be adding more carrier support to ...</td>\n",
       "    </tr>\n",
       "    <tr>\n",
       "      <th>2</th>\n",
       "      <td>1</td>\n",
       "      <td>Hilarious @youtube video - guy does a duet wit...</td>\n",
       "    </tr>\n",
       "    <tr>\n",
       "      <th>3</th>\n",
       "      <td>1</td>\n",
       "      <td>@RIM you made it too easy for me to switch to ...</td>\n",
       "    </tr>\n",
       "    <tr>\n",
       "      <th>4</th>\n",
       "      <td>1</td>\n",
       "      <td>I just realized that the reason I got into twi...</td>\n",
       "    </tr>\n",
       "  </tbody>\n",
       "</table>\n",
       "</div>"
      ],
      "text/plain": [
       "  class                                               text\n",
       "0     1  Now all @Apple has to do is get swype on the i...\n",
       "1     1  @Apple will be adding more carrier support to ...\n",
       "2     1  Hilarious @youtube video - guy does a duet wit...\n",
       "3     1  @RIM you made it too easy for me to switch to ...\n",
       "4     1  I just realized that the reason I got into twi..."
      ]
     },
     "execution_count": 73,
     "metadata": {},
     "output_type": "execute_result"
    }
   ],
   "source": [
    "df2.head()"
   ]
  },
  {
   "cell_type": "markdown",
   "metadata": {},
   "source": [
    "##   Origional gold tweets"
   ]
  },
  {
   "cell_type": "code",
   "execution_count": 148,
   "metadata": {
    "collapsed": false
   },
   "outputs": [
    {
     "ename": "IOError",
     "evalue": "File /Users/janehillyard/capstone/hate-speech/data/sts_gold_tweet.csv does not exist",
     "output_type": "error",
     "traceback": [
      "\u001b[0;31m---------------------------------------------------------------------------\u001b[0m",
      "\u001b[0;31mIOError\u001b[0m                                   Traceback (most recent call last)",
      "\u001b[0;32m<ipython-input-148-5ef4e70b9900>\u001b[0m in \u001b[0;36m<module>\u001b[0;34m()\u001b[0m\n\u001b[0;32m----> 1\u001b[0;31m \u001b[0mdf\u001b[0m \u001b[0;34m=\u001b[0m \u001b[0mpd\u001b[0m\u001b[0;34m.\u001b[0m\u001b[0mread_csv\u001b[0m\u001b[0;34m(\u001b[0m\u001b[0;34m'/Users/janehillyard/capstone/hate-speech/data/sts_gold_tweet.csv'\u001b[0m\u001b[0;34m,\u001b[0m \u001b[0msep\u001b[0m\u001b[0;34m=\u001b[0m\u001b[0;34m';'\u001b[0m\u001b[0;34m)\u001b[0m\u001b[0;34m\u001b[0m\u001b[0m\n\u001b[0m\u001b[1;32m      2\u001b[0m \u001b[0mdf2\u001b[0m \u001b[0;34m=\u001b[0m \u001b[0mdf\u001b[0m\u001b[0;34m[\u001b[0m\u001b[0;34m[\u001b[0m\u001b[0;34m'polarity'\u001b[0m\u001b[0;34m,\u001b[0m \u001b[0;34m'tweet'\u001b[0m\u001b[0;34m]\u001b[0m\u001b[0;34m]\u001b[0m\u001b[0;34m.\u001b[0m\u001b[0mcopy\u001b[0m\u001b[0;34m(\u001b[0m\u001b[0;34m)\u001b[0m\u001b[0;34m\u001b[0m\u001b[0m\n\u001b[1;32m      3\u001b[0m \u001b[0mdf2\u001b[0m\u001b[0;34m.\u001b[0m\u001b[0mloc\u001b[0m\u001b[0;34m[\u001b[0m\u001b[0mdf2\u001b[0m\u001b[0;34m[\u001b[0m\u001b[0;34m'polarity'\u001b[0m\u001b[0;34m]\u001b[0m \u001b[0;34m==\u001b[0m \u001b[0;36m4\u001b[0m\u001b[0;34m,\u001b[0m \u001b[0;34m'polarity'\u001b[0m\u001b[0;34m]\u001b[0m \u001b[0;34m=\u001b[0m \u001b[0;36m1\u001b[0m\u001b[0;34m\u001b[0m\u001b[0m\n",
      "\u001b[0;32m/Users/janehillyard/anaconda/lib/python2.7/site-packages/pandas/io/parsers.pyc\u001b[0m in \u001b[0;36mparser_f\u001b[0;34m(filepath_or_buffer, sep, delimiter, header, names, index_col, usecols, squeeze, prefix, mangle_dupe_cols, dtype, engine, converters, true_values, false_values, skipinitialspace, skiprows, skipfooter, nrows, na_values, keep_default_na, na_filter, verbose, skip_blank_lines, parse_dates, infer_datetime_format, keep_date_col, date_parser, dayfirst, iterator, chunksize, compression, thousands, decimal, lineterminator, quotechar, quoting, escapechar, comment, encoding, dialect, tupleize_cols, error_bad_lines, warn_bad_lines, skip_footer, doublequote, delim_whitespace, as_recarray, compact_ints, use_unsigned, low_memory, buffer_lines, memory_map, float_precision)\u001b[0m\n\u001b[1;32m    560\u001b[0m                     skip_blank_lines=skip_blank_lines)\n\u001b[1;32m    561\u001b[0m \u001b[0;34m\u001b[0m\u001b[0m\n\u001b[0;32m--> 562\u001b[0;31m         \u001b[0;32mreturn\u001b[0m \u001b[0m_read\u001b[0m\u001b[0;34m(\u001b[0m\u001b[0mfilepath_or_buffer\u001b[0m\u001b[0;34m,\u001b[0m \u001b[0mkwds\u001b[0m\u001b[0;34m)\u001b[0m\u001b[0;34m\u001b[0m\u001b[0m\n\u001b[0m\u001b[1;32m    563\u001b[0m \u001b[0;34m\u001b[0m\u001b[0m\n\u001b[1;32m    564\u001b[0m     \u001b[0mparser_f\u001b[0m\u001b[0;34m.\u001b[0m\u001b[0m__name__\u001b[0m \u001b[0;34m=\u001b[0m \u001b[0mname\u001b[0m\u001b[0;34m\u001b[0m\u001b[0m\n",
      "\u001b[0;32m/Users/janehillyard/anaconda/lib/python2.7/site-packages/pandas/io/parsers.pyc\u001b[0m in \u001b[0;36m_read\u001b[0;34m(filepath_or_buffer, kwds)\u001b[0m\n\u001b[1;32m    313\u001b[0m \u001b[0;34m\u001b[0m\u001b[0m\n\u001b[1;32m    314\u001b[0m     \u001b[0;31m# Create the parser.\u001b[0m\u001b[0;34m\u001b[0m\u001b[0;34m\u001b[0m\u001b[0m\n\u001b[0;32m--> 315\u001b[0;31m     \u001b[0mparser\u001b[0m \u001b[0;34m=\u001b[0m \u001b[0mTextFileReader\u001b[0m\u001b[0;34m(\u001b[0m\u001b[0mfilepath_or_buffer\u001b[0m\u001b[0;34m,\u001b[0m \u001b[0;34m**\u001b[0m\u001b[0mkwds\u001b[0m\u001b[0;34m)\u001b[0m\u001b[0;34m\u001b[0m\u001b[0m\n\u001b[0m\u001b[1;32m    316\u001b[0m \u001b[0;34m\u001b[0m\u001b[0m\n\u001b[1;32m    317\u001b[0m     \u001b[0;32mif\u001b[0m \u001b[0;34m(\u001b[0m\u001b[0mnrows\u001b[0m \u001b[0;32mis\u001b[0m \u001b[0;32mnot\u001b[0m \u001b[0mNone\u001b[0m\u001b[0;34m)\u001b[0m \u001b[0;32mand\u001b[0m \u001b[0;34m(\u001b[0m\u001b[0mchunksize\u001b[0m \u001b[0;32mis\u001b[0m \u001b[0;32mnot\u001b[0m \u001b[0mNone\u001b[0m\u001b[0;34m)\u001b[0m\u001b[0;34m:\u001b[0m\u001b[0;34m\u001b[0m\u001b[0m\n",
      "\u001b[0;32m/Users/janehillyard/anaconda/lib/python2.7/site-packages/pandas/io/parsers.pyc\u001b[0m in \u001b[0;36m__init__\u001b[0;34m(self, f, engine, **kwds)\u001b[0m\n\u001b[1;32m    643\u001b[0m             \u001b[0mself\u001b[0m\u001b[0;34m.\u001b[0m\u001b[0moptions\u001b[0m\u001b[0;34m[\u001b[0m\u001b[0;34m'has_index_names'\u001b[0m\u001b[0;34m]\u001b[0m \u001b[0;34m=\u001b[0m \u001b[0mkwds\u001b[0m\u001b[0;34m[\u001b[0m\u001b[0;34m'has_index_names'\u001b[0m\u001b[0;34m]\u001b[0m\u001b[0;34m\u001b[0m\u001b[0m\n\u001b[1;32m    644\u001b[0m \u001b[0;34m\u001b[0m\u001b[0m\n\u001b[0;32m--> 645\u001b[0;31m         \u001b[0mself\u001b[0m\u001b[0;34m.\u001b[0m\u001b[0m_make_engine\u001b[0m\u001b[0;34m(\u001b[0m\u001b[0mself\u001b[0m\u001b[0;34m.\u001b[0m\u001b[0mengine\u001b[0m\u001b[0;34m)\u001b[0m\u001b[0;34m\u001b[0m\u001b[0m\n\u001b[0m\u001b[1;32m    646\u001b[0m \u001b[0;34m\u001b[0m\u001b[0m\n\u001b[1;32m    647\u001b[0m     \u001b[0;32mdef\u001b[0m \u001b[0mclose\u001b[0m\u001b[0;34m(\u001b[0m\u001b[0mself\u001b[0m\u001b[0;34m)\u001b[0m\u001b[0;34m:\u001b[0m\u001b[0;34m\u001b[0m\u001b[0m\n",
      "\u001b[0;32m/Users/janehillyard/anaconda/lib/python2.7/site-packages/pandas/io/parsers.pyc\u001b[0m in \u001b[0;36m_make_engine\u001b[0;34m(self, engine)\u001b[0m\n\u001b[1;32m    797\u001b[0m     \u001b[0;32mdef\u001b[0m \u001b[0m_make_engine\u001b[0m\u001b[0;34m(\u001b[0m\u001b[0mself\u001b[0m\u001b[0;34m,\u001b[0m \u001b[0mengine\u001b[0m\u001b[0;34m=\u001b[0m\u001b[0;34m'c'\u001b[0m\u001b[0;34m)\u001b[0m\u001b[0;34m:\u001b[0m\u001b[0;34m\u001b[0m\u001b[0m\n\u001b[1;32m    798\u001b[0m         \u001b[0;32mif\u001b[0m \u001b[0mengine\u001b[0m \u001b[0;34m==\u001b[0m \u001b[0;34m'c'\u001b[0m\u001b[0;34m:\u001b[0m\u001b[0;34m\u001b[0m\u001b[0m\n\u001b[0;32m--> 799\u001b[0;31m             \u001b[0mself\u001b[0m\u001b[0;34m.\u001b[0m\u001b[0m_engine\u001b[0m \u001b[0;34m=\u001b[0m \u001b[0mCParserWrapper\u001b[0m\u001b[0;34m(\u001b[0m\u001b[0mself\u001b[0m\u001b[0;34m.\u001b[0m\u001b[0mf\u001b[0m\u001b[0;34m,\u001b[0m \u001b[0;34m**\u001b[0m\u001b[0mself\u001b[0m\u001b[0;34m.\u001b[0m\u001b[0moptions\u001b[0m\u001b[0;34m)\u001b[0m\u001b[0;34m\u001b[0m\u001b[0m\n\u001b[0m\u001b[1;32m    800\u001b[0m         \u001b[0;32melse\u001b[0m\u001b[0;34m:\u001b[0m\u001b[0;34m\u001b[0m\u001b[0m\n\u001b[1;32m    801\u001b[0m             \u001b[0;32mif\u001b[0m \u001b[0mengine\u001b[0m \u001b[0;34m==\u001b[0m \u001b[0;34m'python'\u001b[0m\u001b[0;34m:\u001b[0m\u001b[0;34m\u001b[0m\u001b[0m\n",
      "\u001b[0;32m/Users/janehillyard/anaconda/lib/python2.7/site-packages/pandas/io/parsers.pyc\u001b[0m in \u001b[0;36m__init__\u001b[0;34m(self, src, **kwds)\u001b[0m\n\u001b[1;32m   1211\u001b[0m         \u001b[0mkwds\u001b[0m\u001b[0;34m[\u001b[0m\u001b[0;34m'allow_leading_cols'\u001b[0m\u001b[0;34m]\u001b[0m \u001b[0;34m=\u001b[0m \u001b[0mself\u001b[0m\u001b[0;34m.\u001b[0m\u001b[0mindex_col\u001b[0m \u001b[0;32mis\u001b[0m \u001b[0;32mnot\u001b[0m \u001b[0mFalse\u001b[0m\u001b[0;34m\u001b[0m\u001b[0m\n\u001b[1;32m   1212\u001b[0m \u001b[0;34m\u001b[0m\u001b[0m\n\u001b[0;32m-> 1213\u001b[0;31m         \u001b[0mself\u001b[0m\u001b[0;34m.\u001b[0m\u001b[0m_reader\u001b[0m \u001b[0;34m=\u001b[0m \u001b[0m_parser\u001b[0m\u001b[0;34m.\u001b[0m\u001b[0mTextReader\u001b[0m\u001b[0;34m(\u001b[0m\u001b[0msrc\u001b[0m\u001b[0;34m,\u001b[0m \u001b[0;34m**\u001b[0m\u001b[0mkwds\u001b[0m\u001b[0;34m)\u001b[0m\u001b[0;34m\u001b[0m\u001b[0m\n\u001b[0m\u001b[1;32m   1214\u001b[0m \u001b[0;34m\u001b[0m\u001b[0m\n\u001b[1;32m   1215\u001b[0m         \u001b[0;31m# XXX\u001b[0m\u001b[0;34m\u001b[0m\u001b[0;34m\u001b[0m\u001b[0m\n",
      "\u001b[0;32mpandas/parser.pyx\u001b[0m in \u001b[0;36mpandas.parser.TextReader.__cinit__ (pandas/parser.c:3427)\u001b[0;34m()\u001b[0m\n",
      "\u001b[0;32mpandas/parser.pyx\u001b[0m in \u001b[0;36mpandas.parser.TextReader._setup_parser_source (pandas/parser.c:6861)\u001b[0;34m()\u001b[0m\n",
      "\u001b[0;31mIOError\u001b[0m: File /Users/janehillyard/capstone/hate-speech/data/sts_gold_tweet.csv does not exist"
     ]
    }
   ],
   "source": [
    "df = pd.read_csv('/Users/janehillyard/capstone/hate-speech/data/sts_gold_tweet.csv', sep=';')\n",
    "df2 = df[['polarity', 'tweet']].copy()\n",
    "df2.loc[df2['polarity'] == 4, 'polarity'] = 1"
   ]
  },
  {
   "cell_type": "code",
   "execution_count": 33,
   "metadata": {
    "collapsed": false
   },
   "outputs": [
    {
     "ename": "NameError",
     "evalue": "name 'df2' is not defined",
     "output_type": "error",
     "traceback": [
      "\u001b[0;31m---------------------------------------------------------------------------\u001b[0m",
      "\u001b[0;31mNameError\u001b[0m                                 Traceback (most recent call last)",
      "\u001b[0;32m<ipython-input-33-18fe58f734e9>\u001b[0m in \u001b[0;36m<module>\u001b[0;34m()\u001b[0m\n\u001b[0;32m----> 1\u001b[0;31m \u001b[0mdf2\u001b[0m\u001b[0;34m.\u001b[0m\u001b[0mto_csv\u001b[0m\u001b[0;34m(\u001b[0m\u001b[0;34m'/Users/janehillyard/capstone/hate-speech/data/gold_tweets.txt'\u001b[0m\u001b[0;34m,\u001b[0m\u001b[0mindex\u001b[0m \u001b[0;34m=\u001b[0m \u001b[0mFalse\u001b[0m\u001b[0;34m,\u001b[0m \u001b[0mheader\u001b[0m\u001b[0;34m=\u001b[0m\u001b[0mFalse\u001b[0m\u001b[0;34m)\u001b[0m\u001b[0;34m\u001b[0m\u001b[0m\n\u001b[0m\u001b[1;32m      2\u001b[0m             \u001b[0;31m#  quoting=csv.QUOTE_NONE,escapechar=' ', header=False)\u001b[0m\u001b[0;34m\u001b[0m\u001b[0;34m\u001b[0m\u001b[0m\n",
      "\u001b[0;31mNameError\u001b[0m: name 'df2' is not defined"
     ]
    }
   ],
   "source": [
    "df2.to_csv('/Users/janehillyard/Documents/capstone/hate-speech/data/gold_tweets.txt',index = False, header=False) \n",
    "            #  quoting=csv.QUOTE_NONE,escapechar=' ', header=False)"
   ]
  },
  {
   "cell_type": "markdown",
   "metadata": {},
   "source": [
    "# Merge the san and gold tweets to balance them out"
   ]
  },
  {
   "cell_type": "code",
   "execution_count": 135,
   "metadata": {
    "collapsed": false
   },
   "outputs": [
    {
     "data": {
      "text/plain": [
       "sentiment    2034\n",
       "text         2034\n",
       "dtype: int64"
      ]
     },
     "execution_count": 135,
     "metadata": {},
     "output_type": "execute_result"
    }
   ],
   "source": [
    "dfgold = pd.read_csv('/Users/janehillyard/capstone/hate-speech/data/gold_tweets.txt', header = None)\n",
    "dfgold.columns=['sentiment','text']\n",
    "dfgold[dfgold.sentiment == 1].count()\n"
   ]
  },
  {
   "cell_type": "markdown",
   "metadata": {},
   "source": [
    "### read in sanders dataset and sample to balance the gold dataset"
   ]
  },
  {
   "cell_type": "code",
   "execution_count": 98,
   "metadata": {
    "collapsed": false
   },
   "outputs": [],
   "source": [
    "\n",
    "\n",
    "df = pd.read_csv('/Users/janehillyard/capstone/hate-speech/data/sancsv2.txt',header=None)\n",
    "df.columns = ['text']\n",
    "pd.options.display.max_colwidth = 700"
   ]
  },
  {
   "cell_type": "code",
   "execution_count": 185,
   "metadata": {
    "collapsed": false
   },
   "outputs": [
    {
     "name": "stdout",
     "output_type": "stream",
     "text": [
      "<class 'pandas.core.frame.DataFrame'>\n",
      "Int64Index: 326 entries, 0 to 641\n",
      "Data columns (total 2 columns):\n",
      "sentiment    326 non-null int64\n",
      "text         326 non-null object\n",
      "dtypes: int64(1), object(1)\n",
      "memory usage: 7.6+ KB\n"
     ]
    },
    {
     "data": {
      "text/html": [
       "<div>\n",
       "<table border=\"1\" class=\"dataframe\">\n",
       "  <thead>\n",
       "    <tr style=\"text-align: right;\">\n",
       "      <th></th>\n",
       "      <th>sentiment</th>\n",
       "      <th>text</th>\n",
       "    </tr>\n",
       "  </thead>\n",
       "  <tbody>\n",
       "    <tr>\n",
       "      <th>0</th>\n",
       "      <td>1</td>\n",
       "      <td>Now  all  @Apple  has  to  do  is  get  swype  on  the  iphone  and  it  will  be  crack.  Iphone  that  is</td>\n",
       "    </tr>\n",
       "    <tr>\n",
       "      <th>1</th>\n",
       "      <td>1</td>\n",
       "      <td>@Apple  will  be  adding  more  carrier  support  to  the  iPhone  4S  (just  announced)</td>\n",
       "    </tr>\n",
       "    <tr>\n",
       "      <th>2</th>\n",
       "      <td>1</td>\n",
       "      <td>Hilarious  @youtube  video  -  guy  does  a  duet  with  @apple  's  Siri.  Pretty  much  sums  up  the  love  affair!  http://t.co/8ExbnQjY</td>\n",
       "    </tr>\n",
       "    <tr>\n",
       "      <th>3</th>\n",
       "      <td>1</td>\n",
       "      <td>@RIM  you  made  it  too  easy  for  me  to  switch  to  @Apple  iPhone.  See  ya!</td>\n",
       "    </tr>\n",
       "    <tr>\n",
       "      <th>4</th>\n",
       "      <td>1</td>\n",
       "      <td>I  just  realized  that  the  reason  I  got  into  twitter  was  ios5  thanks  @apple</td>\n",
       "    </tr>\n",
       "    <tr>\n",
       "      <th>5</th>\n",
       "      <td>1</td>\n",
       "      <td>I'm  a  current  @Blackberry  user  little  bit  disappointed  with  it!  Should  I  move  to  @Android  or  @Apple  @iphone</td>\n",
       "    </tr>\n",
       "    <tr>\n",
       "      <th>6</th>\n",
       "      <td>1</td>\n",
       "      <td>The  16  strangest  things  Siri  has  said  so  far.  I  am  SOOO  glad  that  @Apple  gave  Siri  a  sense  of  humor!  http://t.co/TWAeUDBp  via  @HappyPlace</td>\n",
       "    </tr>\n",
       "    <tr>\n",
       "      <th>7</th>\n",
       "      <td>1</td>\n",
       "      <td>Great  up  close  &amp;  personal  event  @Apple  tonight  in  Regent  St  store!</td>\n",
       "    </tr>\n",
       "    <tr>\n",
       "      <th>8</th>\n",
       "      <td>1</td>\n",
       "      <td>From  which  companies  do  you  experience  the  best  customer  service  aside  from  @zappos  and  @apple?</td>\n",
       "    </tr>\n",
       "    <tr>\n",
       "      <th>9</th>\n",
       "      <td>1</td>\n",
       "      <td>Just  apply  for  a  job  at  @Apple  hope  they  call  me  lol</td>\n",
       "    </tr>\n",
       "    <tr>\n",
       "      <th>10</th>\n",
       "      <td>1</td>\n",
       "      <td>RT  @JamaicanIdler:  Lmao  I  think  @apple  is  onto  something  magical!  I  am  DYING!!!  haha.  Siri  suggested  where  to  find  whores  and  where  to  h  ...</td>\n",
       "    </tr>\n",
       "    <tr>\n",
       "      <th>11</th>\n",
       "      <td>1</td>\n",
       "      <td>Lmao  I  think  @apple  is  onto  something  magical!  I  am  DYING!!!  haha.  Siri  suggested  where  to  find  whores  and  where  to  hide  a  body  lolol</td>\n",
       "    </tr>\n",
       "    <tr>\n",
       "      <th>12</th>\n",
       "      <td>1</td>\n",
       "      <td>RT  @PhillipRowntree:  Just  registered  as  an  @apple  developer...  Here's  hoping  I  can  actually  do  it...  Any  help  greatly  appreciated!</td>\n",
       "    </tr>\n",
       "    <tr>\n",
       "      <th>13</th>\n",
       "      <td>1</td>\n",
       "      <td>Wow.  Great  deals  on  refurbed  #iPad  (first  gen)  models.  RT:  Apple  offers  great  deals  on  refurbished  1st-gen  iPads  http://t.co/ukWOKBGd  @Apple</td>\n",
       "    </tr>\n",
       "    <tr>\n",
       "      <th>14</th>\n",
       "      <td>1</td>\n",
       "      <td>Just  registered  as  an  @apple  developer...  Here's  hoping  I  can  actually  do  it...  Any  help  greatly  appreciated!</td>\n",
       "    </tr>\n",
       "    <tr>\n",
       "      <th>15</th>\n",
       "      <td>1</td>\n",
       "      <td>!  Currently  learning  Mandarin  for  my  upcoming  trip  to  Hong  Kong.  I  gotta  hand  it  to  @Apple  iPhones  &amp;  their  uber  useful  flashcard  apps</td>\n",
       "    </tr>\n",
       "    <tr>\n",
       "      <th>16</th>\n",
       "      <td>1</td>\n",
       "      <td>Come  to  the  dark  side  @gretcheneclark:  Hey  @apple  if  you  send  me  a  free  iPhone  I  will  publicly  and  ceremoniously  burn  my  #BlackBerry.</td>\n",
       "    </tr>\n",
       "    <tr>\n",
       "      <th>17</th>\n",
       "      <td>1</td>\n",
       "      <td>Hey  @apple  if  you  send  me  a  free  iPhone  (any  version  will  do)  I  will  publicly  and  ceremoniously  burn  my  #BlackBerry.</td>\n",
       "    </tr>\n",
       "    <tr>\n",
       "      <th>18</th>\n",
       "      <td>1</td>\n",
       "      <td>Thank  you  @apple  for  Find  My  Mac  -  just  located  and  wiped  my  stolen  Air.  #smallvictory  #thievingbastards</td>\n",
       "    </tr>\n",
       "    <tr>\n",
       "      <th>19</th>\n",
       "      <td>1</td>\n",
       "      <td>Thanks  to  @Apple  Covent  Garden  #GeniusBar  for  replacing  my  MacBook  keyboard/cracked  wristpad  during  my  lunch  break  today  out  of  warranty.</td>\n",
       "    </tr>\n",
       "    <tr>\n",
       "      <th>20</th>\n",
       "      <td>1</td>\n",
       "      <td>@DailyDealChat  @apple  Thanks!!</td>\n",
       "    </tr>\n",
       "    <tr>\n",
       "      <th>21</th>\n",
       "      <td>1</td>\n",
       "      <td>iPads  Replace  Bound  Playbooks  on  Some  N.F.L.  Teams  http://t.co/2UXAWKwf  @apple  @nytimes</td>\n",
       "    </tr>\n",
       "    <tr>\n",
       "      <th>22</th>\n",
       "      <td>1</td>\n",
       "      <td>@apple..good  ipad</td>\n",
       "    </tr>\n",
       "    <tr>\n",
       "      <th>23</th>\n",
       "      <td>1</td>\n",
       "      <td>@apple  @siri  is  efffing  amazing!!</td>\n",
       "    </tr>\n",
       "    <tr>\n",
       "      <th>24</th>\n",
       "      <td>1</td>\n",
       "      <td>Amazing  new  @Apple  iOs  5  feature.    http://t.co/jatFVfpM</td>\n",
       "    </tr>\n",
       "    <tr>\n",
       "      <th>25</th>\n",
       "      <td>1</td>\n",
       "      <td>RT  @TripLingo:  We're  one  of  a  few  Featured  Education  Apps  on  the  @Apple  **Website**  today  sweet!  http://t.co/0yWvbe1Z</td>\n",
       "    </tr>\n",
       "    <tr>\n",
       "      <th>26</th>\n",
       "      <td>1</td>\n",
       "      <td>We're  one  of  a  few  Featured  Education  Apps  on  the  @Apple  **Website**  today  sweet!  http://t.co/0yWvbe1Z</td>\n",
       "    </tr>\n",
       "    <tr>\n",
       "      <th>27</th>\n",
       "      <td>1</td>\n",
       "      <td>When  you  want  something  done  right  you  do  it  yourself...  or  go  to  @Apple.  AT&amp;T  you're  useless  these  days.  #yourdaysarenumbered</td>\n",
       "    </tr>\n",
       "    <tr>\n",
       "      <th>28</th>\n",
       "      <td>1</td>\n",
       "      <td>We  did  an  unexpected  workshop  for  the  #iPhone4S  at  @apple  yesterday  and  we  got  an  awesome  amount  of  info  #notjustaboutthephone  @gamerchik16</td>\n",
       "    </tr>\n",
       "    <tr>\n",
       "      <th>29</th>\n",
       "      <td>1</td>\n",
       "      <td>&amp;lt;3  #ios5  @apple</td>\n",
       "    </tr>\n",
       "    <tr>\n",
       "      <th>...</th>\n",
       "      <td>...</td>\n",
       "      <td>...</td>\n",
       "    </tr>\n",
       "    <tr>\n",
       "      <th>612</th>\n",
       "      <td>1</td>\n",
       "      <td>Thank  you  @apple  for  making  my  iPad  2  feel  like  new  again  with  your  new  iOS  5!</td>\n",
       "    </tr>\n",
       "    <tr>\n",
       "      <th>613</th>\n",
       "      <td>1</td>\n",
       "      <td>_ibertaddigital.tv/  iPad  a  briliant  SteveJobs  produck  http://t.co/00ohfLY6@Apple  present...  http://t.co/DBbWSDpx</td>\n",
       "    </tr>\n",
       "    <tr>\n",
       "      <th>614</th>\n",
       "      <td>1</td>\n",
       "      <td>Using  my  awsome  iPad...  I  love  it.  I  love  my  MacBook  too  and  my  iPod.  It's  all  amazing!  I  love  @apple</td>\n",
       "    </tr>\n",
       "    <tr>\n",
       "      <th>615</th>\n",
       "      <td>1</td>\n",
       "      <td>@apple  iOS  5  upgrade  done  ......  Much  better  feature.....  Few  more  feature  required</td>\n",
       "    </tr>\n",
       "    <tr>\n",
       "      <th>616</th>\n",
       "      <td>1</td>\n",
       "      <td>New  iOS  5  update  is  THE  BEST.  iloveyou  @apple</td>\n",
       "    </tr>\n",
       "    <tr>\n",
       "      <th>617</th>\n",
       "      <td>1</td>\n",
       "      <td>Finally  got  my  iPhone  4S  thanks  @Apple.  Stupid  @att.  Learned  my  lesson.</td>\n",
       "    </tr>\n",
       "    <tr>\n",
       "      <th>618</th>\n",
       "      <td>1</td>\n",
       "      <td>I  absolutely  love  my  iPhone  4S.  Thank  you  Steve  and  @apple.</td>\n",
       "    </tr>\n",
       "    <tr>\n",
       "      <th>619</th>\n",
       "      <td>1</td>\n",
       "      <td>@apple  -  you  have  invented  a  product  that  actually  gets  my  brother  to  call  my  parents  when  he  gets  where  he's  going.  Amazing.  #siri  #ipod4s</td>\n",
       "    </tr>\n",
       "    <tr>\n",
       "      <th>620</th>\n",
       "      <td>1</td>\n",
       "      <td>dammit  listening  to  siri  is  making  me  want  to  upgrade.  well  played  @apple.</td>\n",
       "    </tr>\n",
       "    <tr>\n",
       "      <th>621</th>\n",
       "      <td>1</td>\n",
       "      <td>Create  new  folders  from  within  your  photo  album  in  #iOS5  finally!!  Thanks  @Apple  that's  been  a  thorn  in  my  side  for  a  while.  #newfeature</td>\n",
       "    </tr>\n",
       "    <tr>\n",
       "      <th>622</th>\n",
       "      <td>1</td>\n",
       "      <td>Video  card  on  @Kimaris  workstation  died  after  just  six  months.  So  long  @hp.  Hello  @apple.</td>\n",
       "    </tr>\n",
       "    <tr>\n",
       "      <th>623</th>\n",
       "      <td>1</td>\n",
       "      <td>@Blackberry  &amp;  @Facebook  U  R  really  about  to  make  me  throw  this  @Blackberry  in  the  trash  an  get  an  @Apple  iPhone!  @Facebook  upload  issues!</td>\n",
       "    </tr>\n",
       "    <tr>\n",
       "      <th>624</th>\n",
       "      <td>1</td>\n",
       "      <td>#iOS5  update  submitted  to  @apple!  Thanks  for  all  the  support!</td>\n",
       "    </tr>\n",
       "    <tr>\n",
       "      <th>625</th>\n",
       "      <td>1</td>\n",
       "      <td>Awesome  service  from  the  @apple  store  in  pc.  Thanks  chris!</td>\n",
       "    </tr>\n",
       "    <tr>\n",
       "      <th>626</th>\n",
       "      <td>1</td>\n",
       "      <td>RT  @To1ne:  .@apple  thanks  for  fixing  this...  http://t.co/wTj1ogDO</td>\n",
       "    </tr>\n",
       "    <tr>\n",
       "      <th>627</th>\n",
       "      <td>1</td>\n",
       "      <td>I  am  crazy  about  #iOS5  .  The  photo  cropping  is  the  best!  @apple</td>\n",
       "    </tr>\n",
       "    <tr>\n",
       "      <th>628</th>\n",
       "      <td>1</td>\n",
       "      <td>.@apple  thanks  for  fixing  this...  http://t.co/wTj1ogDO</td>\n",
       "    </tr>\n",
       "    <tr>\n",
       "      <th>629</th>\n",
       "      <td>1</td>\n",
       "      <td>Hell  yes!!!  Got  my  contacts  back!!    Thanks  @apple</td>\n",
       "    </tr>\n",
       "    <tr>\n",
       "      <th>630</th>\n",
       "      <td>1</td>\n",
       "      <td>RT  @SawyerHartman:  I  FU*KING  LOVE  YOU  @APPLE  this  phone  is  the  best  thing  ever  !!  SIRI  =  BEST  THING  EVER  MADE</td>\n",
       "    </tr>\n",
       "    <tr>\n",
       "      <th>631</th>\n",
       "      <td>1</td>\n",
       "      <td>@apple  has  changed  life.</td>\n",
       "    </tr>\n",
       "    <tr>\n",
       "      <th>632</th>\n",
       "      <td>1</td>\n",
       "      <td>Mad  props  to  the  @apple  employee  that  didn't  charge  me  to  replace  the  back  plate  on  my  iPhone!  Made  my  day!</td>\n",
       "    </tr>\n",
       "    <tr>\n",
       "      <th>633</th>\n",
       "      <td>1</td>\n",
       "      <td>@jonsibley  Actually  the  @Apple    mouse  is  pretty  sweet  man.</td>\n",
       "    </tr>\n",
       "    <tr>\n",
       "      <th>634</th>\n",
       "      <td>1</td>\n",
       "      <td>The  #iphone4s  is    amazing.  Siri's  voice  recognition  is  absolutely  a  step  above  previous  attempts.  Bravo  @apple</td>\n",
       "    </tr>\n",
       "    <tr>\n",
       "      <th>635</th>\n",
       "      <td>1</td>\n",
       "      <td>Finally  got  the  @apple  IPhone  thanks  to  @sprint  getting  with  the  times</td>\n",
       "    </tr>\n",
       "    <tr>\n",
       "      <th>636</th>\n",
       "      <td>1</td>\n",
       "      <td>#iOs5  is  nice  and  as  it  had  to  be  !  Thanks  @Apple</td>\n",
       "    </tr>\n",
       "    <tr>\n",
       "      <th>637</th>\n",
       "      <td>1</td>\n",
       "      <td>Good  support  fm  Kevin  @apple  #Bellevue  store  4  biz  customers  TY!</td>\n",
       "    </tr>\n",
       "    <tr>\n",
       "      <th>638</th>\n",
       "      <td>1</td>\n",
       "      <td>Just  downloaded  IOS  5.  It's  better  than  I  expected!  #thankyou  @apple</td>\n",
       "    </tr>\n",
       "    <tr>\n",
       "      <th>639</th>\n",
       "      <td>1</td>\n",
       "      <td>Wow  I  am  loving  this  new  @apple  update  for  my  touch.  #coolness  Well  done</td>\n",
       "    </tr>\n",
       "    <tr>\n",
       "      <th>640</th>\n",
       "      <td>1</td>\n",
       "      <td>@Apple:  Siri  is  amazing!!!  I'm  in  love!</td>\n",
       "    </tr>\n",
       "    <tr>\n",
       "      <th>641</th>\n",
       "      <td>1</td>\n",
       "      <td>Love  love  love  iOS  5!!  @apple</td>\n",
       "    </tr>\n",
       "  </tbody>\n",
       "</table>\n",
       "<p>326 rows × 2 columns</p>\n",
       "</div>"
      ],
      "text/plain": [
       "     sentiment  \\\n",
       "0            1   \n",
       "1            1   \n",
       "2            1   \n",
       "3            1   \n",
       "4            1   \n",
       "5            1   \n",
       "6            1   \n",
       "7            1   \n",
       "8            1   \n",
       "9            1   \n",
       "10           1   \n",
       "11           1   \n",
       "12           1   \n",
       "13           1   \n",
       "14           1   \n",
       "15           1   \n",
       "16           1   \n",
       "17           1   \n",
       "18           1   \n",
       "19           1   \n",
       "20           1   \n",
       "21           1   \n",
       "22           1   \n",
       "23           1   \n",
       "24           1   \n",
       "25           1   \n",
       "26           1   \n",
       "27           1   \n",
       "28           1   \n",
       "29           1   \n",
       "..         ...   \n",
       "612          1   \n",
       "613          1   \n",
       "614          1   \n",
       "615          1   \n",
       "616          1   \n",
       "617          1   \n",
       "618          1   \n",
       "619          1   \n",
       "620          1   \n",
       "621          1   \n",
       "622          1   \n",
       "623          1   \n",
       "624          1   \n",
       "625          1   \n",
       "626          1   \n",
       "627          1   \n",
       "628          1   \n",
       "629          1   \n",
       "630          1   \n",
       "631          1   \n",
       "632          1   \n",
       "633          1   \n",
       "634          1   \n",
       "635          1   \n",
       "636          1   \n",
       "637          1   \n",
       "638          1   \n",
       "639          1   \n",
       "640          1   \n",
       "641          1   \n",
       "\n",
       "                                                                                                                                                                     text  \n",
       "0                                                             Now  all  @Apple  has  to  do  is  get  swype  on  the  iphone  and  it  will  be  crack.  Iphone  that  is  \n",
       "1                                                                                @Apple  will  be  adding  more  carrier  support  to  the  iPhone  4S  (just  announced)  \n",
       "2                            Hilarious  @youtube  video  -  guy  does  a  duet  with  @apple  's  Siri.  Pretty  much  sums  up  the  love  affair!  http://t.co/8ExbnQjY  \n",
       "3                                                                                      @RIM  you  made  it  too  easy  for  me  to  switch  to  @Apple  iPhone.  See  ya!  \n",
       "4                                                                                  I  just  realized  that  the  reason  I  got  into  twitter  was  ios5  thanks  @apple  \n",
       "5                                            I'm  a  current  @Blackberry  user  little  bit  disappointed  with  it!  Should  I  move  to  @Android  or  @Apple  @iphone  \n",
       "6        The  16  strangest  things  Siri  has  said  so  far.  I  am  SOOO  glad  that  @Apple  gave  Siri  a  sense  of  humor!  http://t.co/TWAeUDBp  via  @HappyPlace  \n",
       "7                                                                                           Great  up  close  &  personal  event  @Apple  tonight  in  Regent  St  store!  \n",
       "8                                                           From  which  companies  do  you  experience  the  best  customer  service  aside  from  @zappos  and  @apple?  \n",
       "9                                                                                                         Just  apply  for  a  job  at  @Apple  hope  they  call  me  lol  \n",
       "10   RT  @JamaicanIdler:  Lmao  I  think  @apple  is  onto  something  magical!  I  am  DYING!!!  haha.  Siri  suggested  where  to  find  whores  and  where  to  h  ...  \n",
       "11          Lmao  I  think  @apple  is  onto  something  magical!  I  am  DYING!!!  haha.  Siri  suggested  where  to  find  whores  and  where  to  hide  a  body  lolol  \n",
       "12                   RT  @PhillipRowntree:  Just  registered  as  an  @apple  developer...  Here's  hoping  I  can  actually  do  it...  Any  help  greatly  appreciated!  \n",
       "13        Wow.  Great  deals  on  refurbed  #iPad  (first  gen)  models.  RT:  Apple  offers  great  deals  on  refurbished  1st-gen  iPads  http://t.co/ukWOKBGd  @Apple  \n",
       "14                                          Just  registered  as  an  @apple  developer...  Here's  hoping  I  can  actually  do  it...  Any  help  greatly  appreciated!  \n",
       "15       !  Currently  learning  Mandarin  for  my  upcoming  trip  to  Hong  Kong.  I  gotta  hand  it  to  @Apple  iPhones  &  their  uber  useful  flashcard  apps      \n",
       "16            Come  to  the  dark  side  @gretcheneclark:  Hey  @apple  if  you  send  me  a  free  iPhone  I  will  publicly  and  ceremoniously  burn  my  #BlackBerry.  \n",
       "17                               Hey  @apple  if  you  send  me  a  free  iPhone  (any  version  will  do)  I  will  publicly  and  ceremoniously  burn  my  #BlackBerry.  \n",
       "18                                               Thank  you  @apple  for  Find  My  Mac  -  just  located  and  wiped  my  stolen  Air.  #smallvictory  #thievingbastards  \n",
       "19           Thanks  to  @Apple  Covent  Garden  #GeniusBar  for  replacing  my  MacBook  keyboard/cracked  wristpad  during  my  lunch  break  today  out  of  warranty.  \n",
       "20                                                                                                                                       @DailyDealChat  @apple  Thanks!!  \n",
       "21                                                                      iPads  Replace  Bound  Playbooks  on  Some  N.F.L.  Teams  http://t.co/2UXAWKwf  @apple  @nytimes  \n",
       "22                                                                                                                                                     @apple..good  ipad  \n",
       "23                                                                                                                                  @apple  @siri  is  efffing  amazing!!  \n",
       "24                                                                                                         Amazing  new  @Apple  iOs  5  feature.    http://t.co/jatFVfpM  \n",
       "25                                  RT  @TripLingo:  We're  one  of  a  few  Featured  Education  Apps  on  the  @Apple  **Website**  today  sweet!  http://t.co/0yWvbe1Z  \n",
       "26                                                   We're  one  of  a  few  Featured  Education  Apps  on  the  @Apple  **Website**  today  sweet!  http://t.co/0yWvbe1Z  \n",
       "27                      When  you  want  something  done  right  you  do  it  yourself...  or  go  to  @Apple.  AT&T  you're  useless  these  days.  #yourdaysarenumbered  \n",
       "28        We  did  an  unexpected  workshop  for  the  #iPhone4S  at  @apple  yesterday  and  we  got  an  awesome  amount  of  info  #notjustaboutthephone  @gamerchik16  \n",
       "29                                                                                                                                                   &lt;3  #ios5  @apple  \n",
       "..                                                                                                                                                                    ...  \n",
       "612                                                                        Thank  you  @apple  for  making  my  iPad  2  feel  like  new  again  with  your  new  iOS  5!  \n",
       "613                                              _ibertaddigital.tv/  iPad  a  briliant  SteveJobs  produck  http://t.co/00ohfLY6@Apple  present...  http://t.co/DBbWSDpx  \n",
       "614                                             Using  my  awsome  iPad...  I  love  it.  I  love  my  MacBook  too  and  my  iPod.  It's  all  amazing!  I  love  @apple  \n",
       "615                                                                       @apple  iOS  5  upgrade  done  ......  Much  better  feature.....  Few  more  feature  required  \n",
       "616                                                                                                                 New  iOS  5  update  is  THE  BEST.  iloveyou  @apple  \n",
       "617                                                                                    Finally  got  my  iPhone  4S  thanks  @Apple.  Stupid  @att.  Learned  my  lesson.  \n",
       "618                                                                                                 I  absolutely  love  my  iPhone  4S.  Thank  you  Steve  and  @apple.  \n",
       "619   @apple  -  you  have  invented  a  product  that  actually  gets  my  brother  to  call  my  parents  when  he  gets  where  he's  going.  Amazing.  #siri  #ipod4s  \n",
       "620                                                                                dammit  listening  to  siri  is  making  me  want  to  upgrade.  well  played  @apple.  \n",
       "621       Create  new  folders  from  within  your  photo  album  in  #iOS5  finally!!  Thanks  @Apple  that's  been  a  thorn  in  my  side  for  a  while.  #newfeature  \n",
       "622                                                               Video  card  on  @Kimaris  workstation  died  after  just  six  months.  So  long  @hp.  Hello  @apple.  \n",
       "623      @Blackberry  &  @Facebook  U  R  really  about  to  make  me  throw  this  @Blackberry  in  the  trash  an  get  an  @Apple  iPhone!  @Facebook  upload  issues!  \n",
       "624                                                                                                #iOS5  update  submitted  to  @apple!  Thanks  for  all  the  support!  \n",
       "625                                                                                                   Awesome  service  from  the  @apple  store  in  pc.  Thanks  chris!  \n",
       "626                                                                                              RT  @To1ne:  .@apple  thanks  for  fixing  this...  http://t.co/wTj1ogDO  \n",
       "627                                                                                           I  am  crazy  about  #iOS5  .  The  photo  cropping  is  the  best!  @apple  \n",
       "628                                                                                                           .@apple  thanks  for  fixing  this...  http://t.co/wTj1ogDO  \n",
       "629                                                                                                             Hell  yes!!!  Got  my  contacts  back!!    Thanks  @apple  \n",
       "630                                     RT  @SawyerHartman:  I  FU*KING  LOVE  YOU  @APPLE  this  phone  is  the  best  thing  ever  !!  SIRI  =  BEST  THING  EVER  MADE  \n",
       "631                                                                                                                                           @apple  has  changed  life.  \n",
       "632                                       Mad  props  to  the  @apple  employee  that  didn't  charge  me  to  replace  the  back  plate  on  my  iPhone!  Made  my  day!  \n",
       "633                                                                                                   @jonsibley  Actually  the  @Apple    mouse  is  pretty  sweet  man.  \n",
       "634                                        The  #iphone4s  is    amazing.  Siri's  voice  recognition  is  absolutely  a  step  above  previous  attempts.  Bravo  @apple  \n",
       "635                                                                                     Finally  got  the  @apple  IPhone  thanks  to  @sprint  getting  with  the  times  \n",
       "636                                                                                                          #iOs5  is  nice  and  as  it  had  to  be  !  Thanks  @Apple  \n",
       "637                                                                                            Good  support  fm  Kevin  @apple  #Bellevue  store  4  biz  customers  TY!  \n",
       "638                                                                                        Just  downloaded  IOS  5.  It's  better  than  I  expected!  #thankyou  @apple  \n",
       "639                                                                                 Wow  I  am  loving  this  new  @apple  update  for  my  touch.  #coolness  Well  done  \n",
       "640                                                                                                                         @Apple:  Siri  is  amazing!!!  I'm  in  love!  \n",
       "641                                                                                                                                    Love  love  love  iOS  5!!  @apple  \n",
       "\n",
       "[326 rows x 2 columns]"
      ]
     },
     "execution_count": 185,
     "metadata": {},
     "output_type": "execute_result"
    }
   ],
   "source": [
    "dfsan = pd.DataFrame(df.text.str.split(' ',1).tolist(),columns = ['sentiment','text'])\n",
    "df1 = pd.DataFrame(dfsan[dfsan['sentiment'] == '1'])\n",
    "dfsanpos = pd.DataFrame(dfsanpos.sentiment.apply(int))\n",
    "dfsanpos['text'] = df1['text']\n",
    "dfsanpos.info()\n",
    "# dfsanpos = pd.DataFrame(dfsan[dfsan['sentiment'] == 1])\n",
    "# dfsanpos = df2['FieldName'] = df2['FieldName'].astype(int)\n",
    "dfsanpos"
   ]
  },
  {
   "cell_type": "code",
   "execution_count": 203,
   "metadata": {
    "collapsed": false
   },
   "outputs": [],
   "source": [
    "\n",
    "import cap_buildmodel as cb"
   ]
  },
  {
   "cell_type": "code",
   "execution_count": 204,
   "metadata": {
    "collapsed": false
   },
   "outputs": [
    {
     "ename": "NameError",
     "evalue": "name 'mm' is not defined",
     "output_type": "error",
     "traceback": [
      "\u001b[0;31m---------------------------------------------------------------------------\u001b[0m",
      "\u001b[0;31mNameError\u001b[0m                                 Traceback (most recent call last)",
      "\u001b[0;32m<ipython-input-204-fe04f633a7e1>\u001b[0m in \u001b[0;36m<module>\u001b[0;34m()\u001b[0m\n\u001b[1;32m      2\u001b[0m \u001b[0;31m# dfc[dfc.sentiment == 1].count()\u001b[0m\u001b[0;34m\u001b[0m\u001b[0;34m\u001b[0m\u001b[0m\n\u001b[1;32m      3\u001b[0m \u001b[0;31m# dfc = dfc[sentiment].apply(int)\u001b[0m\u001b[0;34m\u001b[0m\u001b[0;34m\u001b[0m\u001b[0m\n\u001b[0;32m----> 4\u001b[0;31m \u001b[0mmymod\u001b[0m \u001b[0;34m=\u001b[0m \u001b[0mmm\u001b[0m\u001b[0;34m.\u001b[0m\u001b[0mMyModel\u001b[0m\u001b[0;34m(\u001b[0m\u001b[0;34m)\u001b[0m\u001b[0;34m\u001b[0m\u001b[0m\n\u001b[0m\u001b[1;32m      5\u001b[0m \u001b[0mclean\u001b[0m \u001b[0;34m=\u001b[0m \u001b[0mcld\u001b[0m\u001b[0;34m.\u001b[0m\u001b[0mCleanData\u001b[0m\u001b[0;34m(\u001b[0m\u001b[0;34m)\u001b[0m\u001b[0;34m\u001b[0m\u001b[0m\n\u001b[1;32m      6\u001b[0m \u001b[0mstemmer\u001b[0m \u001b[0;34m=\u001b[0m \u001b[0mSnowballStemmer\u001b[0m\u001b[0;34m(\u001b[0m\u001b[0;34m'english'\u001b[0m\u001b[0;34m)\u001b[0m\u001b[0;34m\u001b[0m\u001b[0m\n",
      "\u001b[0;31mNameError\u001b[0m: name 'mm' is not defined"
     ]
    }
   ],
   "source": [
    "dfc =dfgold.append(dfsanpos,ignore_index=True)\n",
    "# dfc[dfc.sentiment == 1].count()\n",
    "# dfc = dfc[sentiment].apply(int)\n",
    "dfc.head()\n",
    "\n",
    "\n",
    "\n",
    "\n"
   ]
  },
  {
   "cell_type": "code",
   "execution_count": 211,
   "metadata": {
    "collapsed": false
   },
   "outputs": [],
   "source": [
    "from __future__ import division\n",
    "import pandas as pd\n",
    "import numpy as np\n",
    "from sklearn.model_selection import train_test_split\n",
    "from sklearn.feature_extraction.text import TfidfVectorizer,CountVectorizer\n",
    "from sklearn.naive_bayes import MultinomialNB\n",
    "import nltk\n",
    "import re\n",
    "import random\n",
    "from nltk.stem import SnowballStemmer,WordNetLemmatizer\n",
    "from sklearn.model_selection import cross_val_score\n",
    "import matplotlib.pyplot as plt\n",
    "import cPickle as pickle\n",
    "import clean_data as cld\n",
    "import mymodel as mm\n",
    "mymod = mm.MyModel()\n",
    "clean = cld.CleanData()\n",
    "stemmer = SnowballStemmer('english')\n",
    "lemma = WordNetLemmatizer()\n",
    "\n",
    "# #split file]#old_tweets.txt .86 roc\n",
    "# # sancsv2 roc.99\n",
    "# # sentiment rox 0\n",
    "X, y = cb.process_file('/Users/janehillyard/capstone/hate-speech/data/gold_tweets.txt')\n",
    "X = clean.clean_data(X)  # this is taking a bit of time\n",
    "# X_train, X_test, y_train, y_test = train_split(X,y)\n",
    "# train_vec = make_vecs(X_train) # from test\n",
    "# mymodel  = clf_model(train_vec.transform(X_train),y_train,.01)\n",
    "# test_vectors = train_vec.transform(X_test) #vectorize_trans(tfidf,X_test)\n",
    "\n"
   ]
  },
  {
   "cell_type": "code",
   "execution_count": 234,
   "metadata": {
    "collapsed": false
   },
   "outputs": [
    {
     "data": {
      "text/html": [
       "<div>\n",
       "<table border=\"1\" class=\"dataframe\">\n",
       "  <thead>\n",
       "    <tr style=\"text-align: right;\">\n",
       "      <th></th>\n",
       "      <th>text</th>\n",
       "    </tr>\n",
       "  </thead>\n",
       "  <tbody>\n",
       "    <tr>\n",
       "      <th>100</th>\n",
       "      <td>nodame cantabile is lt  i think im falling in love with classical music</td>\n",
       "    </tr>\n",
       "    <tr>\n",
       "      <th>155</th>\n",
       "      <td>happy birthday to my little sis abi celebrating with my family sister is now nine so crazy got her a taylor swift poster</td>\n",
       "    </tr>\n",
       "    <tr>\n",
       "      <th>796</th>\n",
       "      <td>at work ready to start my dayi miss my babies already what am i going to do without them for   days while im in vegas</td>\n",
       "    </tr>\n",
       "    <tr>\n",
       "      <th>873</th>\n",
       "      <td>my iphones are named after horses seabiscuit was just retired for giacomo</td>\n",
       "    </tr>\n",
       "    <tr>\n",
       "      <th>1293</th>\n",
       "      <td>my bf thinks im weird bc i watch youtube videos of puppies and laughing babies</td>\n",
       "    </tr>\n",
       "    <tr>\n",
       "      <th>2357</th>\n",
       "      <td>pray for me please the ex is threatening to start sh at myour babies  st birthday party what a jerk and i still have a headache</td>\n",
       "    </tr>\n",
       "  </tbody>\n",
       "</table>\n",
       "</div>"
      ],
      "text/plain": [
       "                                                                                                                                  text\n",
       "100                                                            nodame cantabile is lt  i think im falling in love with classical music\n",
       "155           happy birthday to my little sis abi celebrating with my family sister is now nine so crazy got her a taylor swift poster\n",
       "796             at work ready to start my dayi miss my babies already what am i going to do without them for   days while im in vegas \n",
       "873                                                          my iphones are named after horses seabiscuit was just retired for giacomo\n",
       "1293                                                    my bf thinks im weird bc i watch youtube videos of puppies and laughing babies\n",
       "2357  pray for me please the ex is threatening to start sh at myour babies  st birthday party what a jerk and i still have a headache "
      ]
     },
     "execution_count": 234,
     "metadata": {},
     "output_type": "execute_result"
    }
   ],
   "source": [
    "df = pd.DataFrame(X,index=None, columns=['text'])\n",
    "df[df['text'].str.contains(\"abi\")==True]"
   ]
  },
  {
   "cell_type": "code",
   "execution_count": 187,
   "metadata": {
    "collapsed": false
   },
   "outputs": [],
   "source": [
    "dfc.to_csv('/Users/janehillyard/capstone/hate-speech/data/gold_tweets.txt',index = False, header=False) \n",
    "            #  quoting=csv.QUOTE_NONE,escapechar=' ', header=False)"
   ]
  },
  {
   "cell_type": "code",
   "execution_count": null,
   "metadata": {
    "collapsed": true
   },
   "outputs": [],
   "source": []
  }
 ],
 "metadata": {
  "anaconda-cloud": {},
  "kernelspec": {
   "display_name": "Python [Root]",
   "language": "python",
   "name": "Python [Root]"
  },
  "language_info": {
   "codemirror_mode": {
    "name": "ipython",
    "version": 2
   },
   "file_extension": ".py",
   "mimetype": "text/x-python",
   "name": "python",
   "nbconvert_exporter": "python",
   "pygments_lexer": "ipython2",
   "version": "2.7.12"
  }
 },
 "nbformat": 4,
 "nbformat_minor": 0
}
