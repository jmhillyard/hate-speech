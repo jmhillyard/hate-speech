{
 "cells": [
  {
   "cell_type": "code",
   "execution_count": 2,
   "metadata": {
    "collapsed": true
   },
   "outputs": [],
   "source": [
    "import numpy as np\n",
    "import pandas as pd\n",
    "import csv\n"
   ]
  },
  {
   "cell_type": "markdown",
   "metadata": {},
   "source": [
    "Cleaning the larger of the google files.\n",
    "\n"
   ]
  },
  {
   "cell_type": "code",
   "execution_count": 2,
   "metadata": {
    "collapsed": false
   },
   "outputs": [],
   "source": [
    "columns = ['sentiment','index', 'datetime','where','whom','text']\n",
    "df = pd.read_csv('/Users/janehillyard/Documents/capstone/hate-speech/data/training.1600000.processed.noemoticon.csv',header=None)\n",
    "df.columns = ['sentiment','index', 'datetime','where','whom','text']\n"
   ]
  },
  {
   "cell_type": "code",
   "execution_count": 3,
   "metadata": {
    "collapsed": false
   },
   "outputs": [],
   "source": [
    "df_big = df[['sentiment', 'text']].copy()\n",
    "df_big.loc[df_big['sentiment'] == 4, 'sentiment'] = 1"
   ]
  },
  {
   "cell_type": "code",
   "execution_count": 37,
   "metadata": {
    "collapsed": false
   },
   "outputs": [
    {
     "data": {
      "text/html": [
       "<div>\n",
       "<table border=\"1\" class=\"dataframe\">\n",
       "  <thead>\n",
       "    <tr style=\"text-align: right;\">\n",
       "      <th></th>\n",
       "      <th>sentiment</th>\n",
       "      <th>text</th>\n",
       "    </tr>\n",
       "  </thead>\n",
       "  <tbody>\n",
       "    <tr>\n",
       "      <th>0</th>\n",
       "      <td>0</td>\n",
       "      <td>@switchfoot http://twitpic.com/2y1zl - Awww, t...</td>\n",
       "    </tr>\n",
       "    <tr>\n",
       "      <th>1</th>\n",
       "      <td>0</td>\n",
       "      <td>is upset that he can't update his Facebook by ...</td>\n",
       "    </tr>\n",
       "    <tr>\n",
       "      <th>2</th>\n",
       "      <td>0</td>\n",
       "      <td>@Kenichan I dived many times for the ball. Man...</td>\n",
       "    </tr>\n",
       "    <tr>\n",
       "      <th>3</th>\n",
       "      <td>0</td>\n",
       "      <td>my whole body feels itchy and like its on fire</td>\n",
       "    </tr>\n",
       "    <tr>\n",
       "      <th>4</th>\n",
       "      <td>0</td>\n",
       "      <td>@nationwideclass no, it's not behaving at all....</td>\n",
       "    </tr>\n",
       "  </tbody>\n",
       "</table>\n",
       "</div>"
      ],
      "text/plain": [
       "   sentiment                                               text\n",
       "0          0  @switchfoot http://twitpic.com/2y1zl - Awww, t...\n",
       "1          0  is upset that he can't update his Facebook by ...\n",
       "2          0  @Kenichan I dived many times for the ball. Man...\n",
       "3          0    my whole body feels itchy and like its on fire \n",
       "4          0  @nationwideclass no, it's not behaving at all...."
      ]
     },
     "execution_count": 37,
     "metadata": {},
     "output_type": "execute_result"
    }
   ],
   "source": [
    "df_big.head()\n"
   ]
  },
  {
   "cell_type": "code",
   "execution_count": 41,
   "metadata": {
    "collapsed": false
   },
   "outputs": [],
   "source": [
    "df_big.to_csv('/Users/janehillyard/Documents/capstone/hate-speech/data/big_test_data.txt', sep=' ', index = False, \n",
    "              quoting=csv.QUOTE_NONE,escapechar=' ')"
   ]
  },
  {
   "cell_type": "code",
   "execution_count": null,
   "metadata": {
    "collapsed": true
   },
   "outputs": [],
   "source": [
    "with open('test.csv', 'w') as csvFile:\n",
    "        writer = csv.writer(csvFile, delimiter=',', quoting=csv.QUOTE_MINIMAL)"
   ]
  },
  {
   "cell_type": "code",
   "execution_count": 46,
   "metadata": {
    "collapsed": false
   },
   "outputs": [
    {
     "name": "stdout",
     "output_type": "stream",
     "text": [
      "0 Not  looking  forward  to  tommorrow.  \n",
      "\n"
     ]
    }
   ],
   "source": [
    "with open('hate-speech/data/fulltest.txt') as f:\n",
    "    lines = f.readlines()\n",
    "    print lines[100000]\n"
   ]
  },
  {
   "cell_type": "code",
   "execution_count": 47,
   "metadata": {
    "collapsed": false
   },
   "outputs": [],
   "source": [
    "df = pd.DataFrame(lines)"
   ]
  },
  {
   "cell_type": "markdown",
   "metadata": {
    "collapsed": false
   },
   "source": [
    "### this is appl files from sanders http://boston.lti.cs.cmu.edu/classes/95-865-K/HW/HW3/"
   ]
  },
  {
   "cell_type": "code",
   "execution_count": 74,
   "metadata": {
    "collapsed": false
   },
   "outputs": [],
   "source": [
    "\n",
    "\n",
    "df = pd.read_csv('/Users/janehillyard/Documents/capstone/hate-speech/data/twitter-sanders-apple2.csv')\n",
    "df.loc[df['class'] == 'Pos', 'class'] = 1\n",
    "df.loc[df['class'] == 'Neg', 'class'] = 0\n",
    "df2 = df[df['class'] != 'Neutral']\n",
    "df.to_csv('/Users/janehillyard/Documents/capstone/hate-speech/data/sancsv2.txt', sep=' ', index = False, \n",
    "              quoting=csv.QUOTE_NONE,escapechar=' ', header=False)"
   ]
  },
  {
   "cell_type": "code",
   "execution_count": 75,
   "metadata": {
    "collapsed": false
   },
   "outputs": [],
   "source": [
    "\n",
    "\n",
    "df = pd.read_csv('/Users/janehillyard/Documents/capstone/hate-speech/data/twitter-sanders-apple3.csv')\n",
    "df.loc[df['class'] == 'Pos', 'class'] = 1\n",
    "df.loc[df['class'] == 'Neg', 'class'] = 0\n",
    "df2 = df[df['class'] != 'Neutral']\n",
    "df2.to_csv('/Users/janehillyard/Documents/capstone/hate-speech/data/sancsv2.txt',mode='a', sep=' ',index = False, \n",
    "              quoting=csv.QUOTE_NONE,escapechar=' ',header=False)"
   ]
  },
  {
   "cell_type": "code",
   "execution_count": 69,
   "metadata": {
    "collapsed": false
   },
   "outputs": [],
   "source": [
    "\n",
    "with open(\"hate-speech/data/sentimenttrain.txt\") as f:\n",
    "    lines = f.readlines()\n",
    "    np.random.shuffle(lines)\n",
    "df = pd.DataFrame(lines)"
   ]
  },
  {
   "cell_type": "code",
   "execution_count": 70,
   "metadata": {
    "collapsed": false
   },
   "outputs": [],
   "source": [
    "df.to_csv('/Users/janehillyard/Documents/capstone/hate-speech/data/sancsv2.txt',mode='a', sep=' ',header=Fales,index = False, \n",
    "              quoting=csv.QUOTE_NONE,escapechar=' ')"
   ]
  },
  {
   "cell_type": "code",
   "execution_count": 73,
   "metadata": {
    "collapsed": false
   },
   "outputs": [
    {
     "data": {
      "text/html": [
       "<div>\n",
       "<table border=\"1\" class=\"dataframe\">\n",
       "  <thead>\n",
       "    <tr style=\"text-align: right;\">\n",
       "      <th></th>\n",
       "      <th>class</th>\n",
       "      <th>text</th>\n",
       "    </tr>\n",
       "  </thead>\n",
       "  <tbody>\n",
       "    <tr>\n",
       "      <th>0</th>\n",
       "      <td>1</td>\n",
       "      <td>Now all @Apple has to do is get swype on the i...</td>\n",
       "    </tr>\n",
       "    <tr>\n",
       "      <th>1</th>\n",
       "      <td>1</td>\n",
       "      <td>@Apple will be adding more carrier support to ...</td>\n",
       "    </tr>\n",
       "    <tr>\n",
       "      <th>2</th>\n",
       "      <td>1</td>\n",
       "      <td>Hilarious @youtube video - guy does a duet wit...</td>\n",
       "    </tr>\n",
       "    <tr>\n",
       "      <th>3</th>\n",
       "      <td>1</td>\n",
       "      <td>@RIM you made it too easy for me to switch to ...</td>\n",
       "    </tr>\n",
       "    <tr>\n",
       "      <th>4</th>\n",
       "      <td>1</td>\n",
       "      <td>I just realized that the reason I got into twi...</td>\n",
       "    </tr>\n",
       "  </tbody>\n",
       "</table>\n",
       "</div>"
      ],
      "text/plain": [
       "  class                                               text\n",
       "0     1  Now all @Apple has to do is get swype on the i...\n",
       "1     1  @Apple will be adding more carrier support to ...\n",
       "2     1  Hilarious @youtube video - guy does a duet wit...\n",
       "3     1  @RIM you made it too easy for me to switch to ...\n",
       "4     1  I just realized that the reason I got into twi..."
      ]
     },
     "execution_count": 73,
     "metadata": {},
     "output_type": "execute_result"
    }
   ],
   "source": [
    "df2.head()"
   ]
  },
  {
   "cell_type": "code",
   "execution_count": 23,
   "metadata": {
    "collapsed": false
   },
   "outputs": [],
   "source": [
    "\n",
    "\n",
    "df = pd.read_csv('/Users/janehillyard/Documents/capstone/hate-speech/data/sancsv2.txt',header=None)\n",
    "df.columns = ['text']\n",
    "pd.options.display.max_colwidth = 700"
   ]
  },
  {
   "cell_type": "code",
   "execution_count": 27,
   "metadata": {
    "collapsed": false
   },
   "outputs": [
    {
     "data": {
      "text/html": [
       "<div>\n",
       "<table border=\"1\" class=\"dataframe\">\n",
       "  <thead>\n",
       "    <tr style=\"text-align: right;\">\n",
       "      <th></th>\n",
       "      <th>text</th>\n",
       "    </tr>\n",
       "  </thead>\n",
       "  <tbody>\n",
       "  </tbody>\n",
       "</table>\n",
       "</div>"
      ],
      "text/plain": [
       "Empty DataFrame\n",
       "Columns: [text]\n",
       "Index: []"
      ]
     },
     "execution_count": 27,
     "metadata": {},
     "output_type": "execute_result"
    }
   ],
   "source": [
    " df[df['text'].str.contains(\"zero\", na=False)]"
   ]
  },
  {
   "cell_type": "markdown",
   "metadata": {},
   "source": [
    "## "
   ]
  },
  {
   "cell_type": "code",
   "execution_count": 17,
   "metadata": {
    "collapsed": false
   },
   "outputs": [],
   "source": [
    "df = pd.read_csv('/Users/janehillyard/Documents/capstone/hate-speech/data/sts_gold_tweet.csv', sep=';')\n",
    "df2 = df[['polarity', 'tweet']].copy()\n",
    "df2.loc[df2['polarity'] == 4, 'polarity'] = 1"
   ]
  },
  {
   "cell_type": "code",
   "execution_count": 32,
   "metadata": {
    "collapsed": false
   },
   "outputs": [],
   "source": [
    "df2.to_csv('/Users/janehillyard/Documents/capstone/hate-speech/data/gold_tweets.txt',index = False, header=False) \n",
    "            #  quoting=csv.QUOTE_NONE,escapechar=' ', header=False)"
   ]
  },
  {
   "cell_type": "code",
   "execution_count": 34,
   "metadata": {
    "collapsed": false
   },
   "outputs": [
    {
     "data": {
      "text/html": [
       "<div>\n",
       "<table border=\"1\" class=\"dataframe\">\n",
       "  <thead>\n",
       "    <tr style=\"text-align: right;\">\n",
       "      <th></th>\n",
       "      <th>0</th>\n",
       "      <th>the angel is going to miss the athlete this weekend</th>\n",
       "    </tr>\n",
       "  </thead>\n",
       "  <tbody>\n",
       "    <tr>\n",
       "      <th>0</th>\n",
       "      <td>0</td>\n",
       "      <td>It looks as though Shaq is getting traded to C...</td>\n",
       "    </tr>\n",
       "    <tr>\n",
       "      <th>1</th>\n",
       "      <td>0</td>\n",
       "      <td>@clarianne APRIL 9TH ISN'T COMING SOON ENOUGH</td>\n",
       "    </tr>\n",
       "    <tr>\n",
       "      <th>2</th>\n",
       "      <td>0</td>\n",
       "      <td>drinking a McDonalds coffee and not understand...</td>\n",
       "    </tr>\n",
       "    <tr>\n",
       "      <th>3</th>\n",
       "      <td>0</td>\n",
       "      <td>So dissapointed Taylor Swift doesnt have a Twi...</td>\n",
       "    </tr>\n",
       "    <tr>\n",
       "      <th>4</th>\n",
       "      <td>0</td>\n",
       "      <td>Wishes I was on the Spring Fling Tour with Daw...</td>\n",
       "    </tr>\n",
       "    <tr>\n",
       "      <th>5</th>\n",
       "      <td>0</td>\n",
       "      <td>got a sniffle, got the kids and hubby just lef...</td>\n",
       "    </tr>\n",
       "    <tr>\n",
       "      <th>6</th>\n",
       "      <td>0</td>\n",
       "      <td>i've only been in sydney for 3 hrs but I miss ...</td>\n",
       "    </tr>\n",
       "    <tr>\n",
       "      <th>7</th>\n",
       "      <td>0</td>\n",
       "      <td>xboxtweet not working again</td>\n",
       "    </tr>\n",
       "    <tr>\n",
       "      <th>8</th>\n",
       "      <td>0</td>\n",
       "      <td>R.I.P to lebron/kobe puppet commercials...</td>\n",
       "    </tr>\n",
       "    <tr>\n",
       "      <th>9</th>\n",
       "      <td>0</td>\n",
       "      <td>Allergies sucks sometimes. Theres a super ador...</td>\n",
       "    </tr>\n",
       "    <tr>\n",
       "      <th>10</th>\n",
       "      <td>0</td>\n",
       "      <td>has a broken iphone</td>\n",
       "    </tr>\n",
       "    <tr>\n",
       "      <th>11</th>\n",
       "      <td>0</td>\n",
       "      <td>Line at McDonalds was too long so I can't get ...</td>\n",
       "    </tr>\n",
       "    <tr>\n",
       "      <th>12</th>\n",
       "      <td>0</td>\n",
       "      <td>@stephnewby there is a virus going around  con...</td>\n",
       "    </tr>\n",
       "    <tr>\n",
       "      <th>13</th>\n",
       "      <td>0</td>\n",
       "      <td>I scratched my iPod</td>\n",
       "    </tr>\n",
       "    <tr>\n",
       "      <th>14</th>\n",
       "      <td>0</td>\n",
       "      <td>I don't understand... I really don't</td>\n",
       "    </tr>\n",
       "    <tr>\n",
       "      <th>15</th>\n",
       "      <td>0</td>\n",
       "      <td>@Rove1974 @Pink is our hero too! Love her! Wan...</td>\n",
       "    </tr>\n",
       "    <tr>\n",
       "      <th>16</th>\n",
       "      <td>0</td>\n",
       "      <td>I hate the fact that I'm genuinely excited abo...</td>\n",
       "    </tr>\n",
       "    <tr>\n",
       "      <th>17</th>\n",
       "      <td>0</td>\n",
       "      <td>Tula's sick! Nausious, Nasal congestion, heada...</td>\n",
       "    </tr>\n",
       "    <tr>\n",
       "      <th>18</th>\n",
       "      <td>0</td>\n",
       "      <td>Hayfever time  not good!</td>\n",
       "    </tr>\n",
       "    <tr>\n",
       "      <th>19</th>\n",
       "      <td>0</td>\n",
       "      <td>I wish diversity was like one of those musicia...</td>\n",
       "    </tr>\n",
       "    <tr>\n",
       "      <th>20</th>\n",
       "      <td>0</td>\n",
       "      <td>Oh No - the Cavs lost game 4  Cavs are 1 loss ...</td>\n",
       "    </tr>\n",
       "    <tr>\n",
       "      <th>21</th>\n",
       "      <td>0</td>\n",
       "      <td>still sick. feeling a bit better, got some new...</td>\n",
       "    </tr>\n",
       "    <tr>\n",
       "      <th>22</th>\n",
       "      <td>0</td>\n",
       "      <td>worked on 5 bone marrow cases today! All + for...</td>\n",
       "    </tr>\n",
       "    <tr>\n",
       "      <th>23</th>\n",
       "      <td>0</td>\n",
       "      <td>It was a sleepless night</td>\n",
       "    </tr>\n",
       "    <tr>\n",
       "      <th>24</th>\n",
       "      <td>0</td>\n",
       "      <td>@d_castillo ugh, that's disconcerting</td>\n",
       "    </tr>\n",
       "    <tr>\n",
       "      <th>25</th>\n",
       "      <td>0</td>\n",
       "      <td>forgot about my english coursework &amp;amp; my ip...</td>\n",
       "    </tr>\n",
       "    <tr>\n",
       "      <th>26</th>\n",
       "      <td>0</td>\n",
       "      <td>@TweetRamona too bad it's in seattle..</td>\n",
       "    </tr>\n",
       "    <tr>\n",
       "      <th>27</th>\n",
       "      <td>0</td>\n",
       "      <td>MY TWEETS ARENT GOING THROUGH</td>\n",
       "    </tr>\n",
       "    <tr>\n",
       "      <th>28</th>\n",
       "      <td>0</td>\n",
       "      <td>@SeattleRealEst8 439 calories; 28 grams of fat...</td>\n",
       "    </tr>\n",
       "    <tr>\n",
       "      <th>29</th>\n",
       "      <td>0</td>\n",
       "      <td>@mglickman that reminds me of a bit howard ste...</td>\n",
       "    </tr>\n",
       "    <tr>\n",
       "      <th>...</th>\n",
       "      <td>...</td>\n",
       "      <td>...</td>\n",
       "    </tr>\n",
       "    <tr>\n",
       "      <th>2003</th>\n",
       "      <td>0</td>\n",
       "      <td>I'm tweetless without miPhone   can't wait for...</td>\n",
       "    </tr>\n",
       "    <tr>\n",
       "      <th>2004</th>\n",
       "      <td>0</td>\n",
       "      <td>after seeing Ronan's latest update : I wish I ...</td>\n",
       "    </tr>\n",
       "    <tr>\n",
       "      <th>2005</th>\n",
       "      <td>0</td>\n",
       "      <td>@carolrainbow no Internet at home, have to dri...</td>\n",
       "    </tr>\n",
       "    <tr>\n",
       "      <th>2006</th>\n",
       "      <td>0</td>\n",
       "      <td>im lonely  keep me company! 22 female, california</td>\n",
       "    </tr>\n",
       "    <tr>\n",
       "      <th>2007</th>\n",
       "      <td>0</td>\n",
       "      <td>Damn the cavs lost I lost sum chippaz</td>\n",
       "    </tr>\n",
       "    <tr>\n",
       "      <th>2008</th>\n",
       "      <td>0</td>\n",
       "      <td>Can't finish my damn homework. Fifty more ques...</td>\n",
       "    </tr>\n",
       "    <tr>\n",
       "      <th>2009</th>\n",
       "      <td>0</td>\n",
       "      <td>Just woke up an already have written some e-ma...</td>\n",
       "    </tr>\n",
       "    <tr>\n",
       "      <th>2010</th>\n",
       "      <td>0</td>\n",
       "      <td>Got a fever, and this ain't the disco kind</td>\n",
       "    </tr>\n",
       "    <tr>\n",
       "      <th>2011</th>\n",
       "      <td>0</td>\n",
       "      <td>@leehopkins ok you guys are just too adorable!...</td>\n",
       "    </tr>\n",
       "    <tr>\n",
       "      <th>2012</th>\n",
       "      <td>0</td>\n",
       "      <td>I really want an iPhone, but I have to pay a f...</td>\n",
       "    </tr>\n",
       "    <tr>\n",
       "      <th>2013</th>\n",
       "      <td>0</td>\n",
       "      <td>@michelletripp Don't be too bummed. Saw it @ I...</td>\n",
       "    </tr>\n",
       "    <tr>\n",
       "      <th>2014</th>\n",
       "      <td>0</td>\n",
       "      <td>Keeping my fingers crossed for my buddy    He ...</td>\n",
       "    </tr>\n",
       "    <tr>\n",
       "      <th>2015</th>\n",
       "      <td>0</td>\n",
       "      <td>@sudam08  yes, someone hasn't been reading my ...</td>\n",
       "    </tr>\n",
       "    <tr>\n",
       "      <th>2016</th>\n",
       "      <td>0</td>\n",
       "      <td>I miss him so much  sosososo much. I wanna be ...</td>\n",
       "    </tr>\n",
       "    <tr>\n",
       "      <th>2017</th>\n",
       "      <td>0</td>\n",
       "      <td>Just waking up feeling really tired. Does hayf...</td>\n",
       "    </tr>\n",
       "    <tr>\n",
       "      <th>2018</th>\n",
       "      <td>0</td>\n",
       "      <td>I just saw that they found that Tracy girl in ...</td>\n",
       "    </tr>\n",
       "    <tr>\n",
       "      <th>2019</th>\n",
       "      <td>0</td>\n",
       "      <td>watching uruguay-brazil.. we need a miracle...</td>\n",
       "    </tr>\n",
       "    <tr>\n",
       "      <th>2020</th>\n",
       "      <td>0</td>\n",
       "      <td>@kevinprince I couldn't buy any '#openhacklond...</td>\n",
       "    </tr>\n",
       "    <tr>\n",
       "      <th>2021</th>\n",
       "      <td>0</td>\n",
       "      <td>@simondoggett I would like to install iphone 3...</td>\n",
       "    </tr>\n",
       "    <tr>\n",
       "      <th>2022</th>\n",
       "      <td>0</td>\n",
       "      <td>Just realised I have @hueyyei 's psp in my bag...</td>\n",
       "    </tr>\n",
       "    <tr>\n",
       "      <th>2023</th>\n",
       "      <td>0</td>\n",
       "      <td>I hope Microsoft have fixed #xboxlive #marketp...</td>\n",
       "    </tr>\n",
       "    <tr>\n",
       "      <th>2024</th>\n",
       "      <td>0</td>\n",
       "      <td>@georgeruiz Unfortunately one of those moments...</td>\n",
       "    </tr>\n",
       "    <tr>\n",
       "      <th>2025</th>\n",
       "      <td>0</td>\n",
       "      <td>@BleuMuze  Hit up gameworks and a movie in dow...</td>\n",
       "    </tr>\n",
       "    <tr>\n",
       "      <th>2026</th>\n",
       "      <td>0</td>\n",
       "      <td>I miss you twitter. My phone broke, now I'm us...</td>\n",
       "    </tr>\n",
       "    <tr>\n",
       "      <th>2027</th>\n",
       "      <td>0</td>\n",
       "      <td>@iLoveLyci lol i said the CAVS deserve to be i...</td>\n",
       "    </tr>\n",
       "    <tr>\n",
       "      <th>2028</th>\n",
       "      <td>0</td>\n",
       "      <td>A king sized bed is nice but sad and lonely wi...</td>\n",
       "    </tr>\n",
       "    <tr>\n",
       "      <th>2029</th>\n",
       "      <td>0</td>\n",
       "      <td>@breannalovesjb hurry up home!!!!! im dying wi...</td>\n",
       "    </tr>\n",
       "    <tr>\n",
       "      <th>2030</th>\n",
       "      <td>0</td>\n",
       "      <td>@jordanhowell lol only a PSP, had a game boy b...</td>\n",
       "    </tr>\n",
       "    <tr>\n",
       "      <th>2031</th>\n",
       "      <td>1</td>\n",
       "      <td>Good morning everyone!  It is such a beautiful...</td>\n",
       "    </tr>\n",
       "    <tr>\n",
       "      <th>2032</th>\n",
       "      <td>1</td>\n",
       "      <td>hey guess was @magicmanil the Lakers won and K...</td>\n",
       "    </tr>\n",
       "  </tbody>\n",
       "</table>\n",
       "<p>2033 rows × 2 columns</p>\n",
       "</div>"
      ],
      "text/plain": [
       "      0 the angel is going to miss the athlete this weekend \n",
       "0     0  It looks as though Shaq is getting traded to C...  \n",
       "1     0     @clarianne APRIL 9TH ISN'T COMING SOON ENOUGH   \n",
       "2     0  drinking a McDonalds coffee and not understand...  \n",
       "3     0  So dissapointed Taylor Swift doesnt have a Twi...  \n",
       "4     0  Wishes I was on the Spring Fling Tour with Daw...  \n",
       "5     0  got a sniffle, got the kids and hubby just lef...  \n",
       "6     0  i've only been in sydney for 3 hrs but I miss ...  \n",
       "7     0                       xboxtweet not working again   \n",
       "8     0        R.I.P to lebron/kobe puppet commercials...   \n",
       "9     0  Allergies sucks sometimes. Theres a super ador...  \n",
       "10    0                               has a broken iphone   \n",
       "11    0  Line at McDonalds was too long so I can't get ...  \n",
       "12    0  @stephnewby there is a virus going around  con...  \n",
       "13    0                               I scratched my iPod   \n",
       "14    0              I don't understand... I really don't   \n",
       "15    0  @Rove1974 @Pink is our hero too! Love her! Wan...  \n",
       "16    0  I hate the fact that I'm genuinely excited abo...  \n",
       "17    0  Tula's sick! Nausious, Nasal congestion, heada...  \n",
       "18    0                           Hayfever time  not good!  \n",
       "19    0  I wish diversity was like one of those musicia...  \n",
       "20    0  Oh No - the Cavs lost game 4  Cavs are 1 loss ...  \n",
       "21    0  still sick. feeling a bit better, got some new...  \n",
       "22    0  worked on 5 bone marrow cases today! All + for...  \n",
       "23    0                          It was a sleepless night   \n",
       "24    0             @d_castillo ugh, that's disconcerting   \n",
       "25    0  forgot about my english coursework &amp; my ip...  \n",
       "26    0            @TweetRamona too bad it's in seattle..   \n",
       "27    0                     MY TWEETS ARENT GOING THROUGH   \n",
       "28    0  @SeattleRealEst8 439 calories; 28 grams of fat...  \n",
       "29    0  @mglickman that reminds me of a bit howard ste...  \n",
       "...  ..                                                ...  \n",
       "2003  0  I'm tweetless without miPhone   can't wait for...  \n",
       "2004  0  after seeing Ronan's latest update : I wish I ...  \n",
       "2005  0  @carolrainbow no Internet at home, have to dri...  \n",
       "2006  0  im lonely  keep me company! 22 female, california  \n",
       "2007  0             Damn the cavs lost I lost sum chippaz   \n",
       "2008  0  Can't finish my damn homework. Fifty more ques...  \n",
       "2009  0  Just woke up an already have written some e-ma...  \n",
       "2010  0        Got a fever, and this ain't the disco kind   \n",
       "2011  0  @leehopkins ok you guys are just too adorable!...  \n",
       "2012  0  I really want an iPhone, but I have to pay a f...  \n",
       "2013  0  @michelletripp Don't be too bummed. Saw it @ I...  \n",
       "2014  0  Keeping my fingers crossed for my buddy    He ...  \n",
       "2015  0  @sudam08  yes, someone hasn't been reading my ...  \n",
       "2016  0  I miss him so much  sosososo much. I wanna be ...  \n",
       "2017  0  Just waking up feeling really tired. Does hayf...  \n",
       "2018  0  I just saw that they found that Tracy girl in ...  \n",
       "2019  0    watching uruguay-brazil.. we need a miracle...   \n",
       "2020  0  @kevinprince I couldn't buy any '#openhacklond...  \n",
       "2021  0  @simondoggett I would like to install iphone 3...  \n",
       "2022  0  Just realised I have @hueyyei 's psp in my bag...  \n",
       "2023  0  I hope Microsoft have fixed #xboxlive #marketp...  \n",
       "2024  0  @georgeruiz Unfortunately one of those moments...  \n",
       "2025  0  @BleuMuze  Hit up gameworks and a movie in dow...  \n",
       "2026  0  I miss you twitter. My phone broke, now I'm us...  \n",
       "2027  0  @iLoveLyci lol i said the CAVS deserve to be i...  \n",
       "2028  0  A king sized bed is nice but sad and lonely wi...  \n",
       "2029  0  @breannalovesjb hurry up home!!!!! im dying wi...  \n",
       "2030  0  @jordanhowell lol only a PSP, had a game boy b...  \n",
       "2031  1  Good morning everyone!  It is such a beautiful...  \n",
       "2032  1  hey guess was @magicmanil the Lakers won and K...  \n",
       "\n",
       "[2033 rows x 2 columns]"
      ]
     },
     "execution_count": 34,
     "metadata": {},
     "output_type": "execute_result"
    }
   ],
   "source": [
    "df = pd.read_csv('/Users/janehillyard/Documents/capstone/hate-speech/data/gold_tweets.txt')\n",
    "df"
   ]
  },
  {
   "cell_type": "code",
   "execution_count": null,
   "metadata": {
    "collapsed": true
   },
   "outputs": [],
   "source": []
  }
 ],
 "metadata": {
  "anaconda-cloud": {},
  "kernelspec": {
   "display_name": "Python [Root]",
   "language": "python",
   "name": "Python [Root]"
  },
  "language_info": {
   "codemirror_mode": {
    "name": "ipython",
    "version": 2
   },
   "file_extension": ".py",
   "mimetype": "text/x-python",
   "name": "python",
   "nbconvert_exporter": "python",
   "pygments_lexer": "ipython2",
   "version": "2.7.12"
  }
 },
 "nbformat": 4,
 "nbformat_minor": 0
}
